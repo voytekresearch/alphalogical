{
 "cells": [
  {
   "cell_type": "code",
   "execution_count": null,
   "metadata": {},
   "outputs": [],
   "source": [
    "# -\n",
    "from bokeh.plotting import figure\n",
    "from bokeh.io import show, output_notebook\n",
    "from bokeh.layouts import column, row, gridplot\n",
    "from bokeh.models import Range1d\n",
    "from bokeh.io import export_png\n",
    "output_notebook()\n",
    "\n",
    "# -\n",
    "import os\n",
    "import h5py\n",
    "import numpy as np\n",
    "\n",
    "from tqdm import tqdm\n",
    "from glob import glob\n",
    "from pprint import pprint\n",
    "\n",
    "from scipy.io import loadmat\n",
    "\n",
    "from fakespikes.util import create_times\n",
    "from fakespikes.util import create_psd\n",
    "from alphalogical.util import find_bursts\n",
    "from alphalogical.util import find_bursts2\n",
    "from alphalogical.util import find_notbursts\n",
    "from alphalogical.util import butter_bandpass_filter\n",
    "\n",
    "# ----------------------------------------\n",
    "def plot_grid_psd(x, m, fs, show_plot=False):\n",
    "    freqs, psd = create_psd(x[m], fs)\n",
    "    p = figure(plot_width=150, plot_height=150)\n",
    "    p.line(freqs, np.log10(psd), color=\"black\", alpha=1)\n",
    "    p.xaxis.axis_label = 'Freq (Hz)'\n",
    "    p.yaxis.axis_label = 'Log power (AU)'\n",
    "    p.x_range = Range1d(1, 50)\n",
    "    p.y_range = Range1d(-3, 5)\n",
    "    p.xgrid.grid_line_color = None\n",
    "    p.ygrid.grid_line_color = None\n",
    "    p.toolbar.logo = None\n",
    "    p.toolbar_location = None\n",
    "    \n",
    "    if show_plot:\n",
    "        show(p)\n",
    "    else:\n",
    "        return p"
   ]
  },
  {
   "cell_type": "markdown",
   "metadata": {},
   "source": [
    "# Pathing"
   ]
  },
  {
   "cell_type": "code",
   "execution_count": null,
   "metadata": {},
   "outputs": [],
   "source": [
    "DATA_PATH = \"/Users/type/Data/Smith/data\""
   ]
  },
  {
   "cell_type": "markdown",
   "metadata": {},
   "source": [
    "# Load example data"
   ]
  },
  {
   "cell_type": "code",
   "execution_count": null,
   "metadata": {},
   "outputs": [],
   "source": [
    "pattern = \"*converted_ns2*\"\n",
    "files = glob(os.path.join(DATA_PATH, pattern))\n",
    "pprint([(i, fi) for i, fi in enumerate(files)])"
   ]
  },
  {
   "cell_type": "markdown",
   "metadata": {},
   "source": [
    "# Select file by index"
   ]
  },
  {
   "cell_type": "code",
   "execution_count": null,
   "metadata": {},
   "outputs": [],
   "source": [
    "i = 42\n",
    "print(\"Running {}\".format(files[i]))"
   ]
  },
  {
   "cell_type": "markdown",
   "metadata": {},
   "source": [
    "# Basic exploration of file `i`."
   ]
  },
  {
   "cell_type": "code",
   "execution_count": null,
   "metadata": {},
   "outputs": [],
   "source": [
    "fi = h5py.File(files[i])"
   ]
  },
  {
   "cell_type": "code",
   "execution_count": null,
   "metadata": {},
   "outputs": [],
   "source": [
    "pprint(fi.keys())"
   ]
  },
  {
   "cell_type": "markdown",
   "metadata": {},
   "source": [
    "# Create time"
   ]
  },
  {
   "cell_type": "code",
   "execution_count": null,
   "metadata": {},
   "outputs": [],
   "source": [
    "fs = float(fi['Fs'].value)\n",
    "n_samples = float(fi['nSamples'].value) \n",
    "T = n_samples / fs\n",
    "print(\"Experiment time T {}\".format(T))\n",
    "\n",
    "times = create_times(T, 1/fs)\n",
    "print(\"Times: {}\".format(times[:20]))"
   ]
  },
  {
   "cell_type": "markdown",
   "metadata": {},
   "source": [
    "# Data stats"
   ]
  },
  {
   "cell_type": "code",
   "execution_count": null,
   "metadata": {},
   "outputs": [],
   "source": [
    "print(\"Data shape: {}\".format(fi['data'].shape))\n",
    "X = fi['data'].value"
   ]
  },
  {
   "cell_type": "markdown",
   "metadata": {},
   "source": [
    "# Choose an electrode"
   ]
  },
  {
   "cell_type": "code",
   "execution_count": null,
   "metadata": {},
   "outputs": [],
   "source": [
    "n = 20\n",
    "print(\"Electrode, shape:\".format(n))\n",
    "\n",
    "x = X[:, n]\n",
    "pprint(x.shape)"
   ]
  },
  {
   "cell_type": "code",
   "execution_count": null,
   "metadata": {},
   "outputs": [],
   "source": [
    "tspan = (600, 800)\n",
    "m = np.logical_and(times > tspan[0], times <= tspan[1]) \n",
    "\n",
    "p = figure(plot_width=800, plot_height=300)\n",
    "p.line(times[m], x[m], color=\"black\", alpha=0.6)\n",
    "p.xaxis.axis_label = 'Time (s)'\n",
    "p.yaxis.axis_label = 'LFP (uV)'\n",
    "p.xgrid.grid_line_color = None\n",
    "p.ygrid.grid_line_color = None\n",
    "show(p)\n",
    "\n",
    "freqs, psd = create_psd(x[m], fs)\n",
    "p = figure(plot_width=300, plot_height=300)\n",
    "p.line(freqs, np.log10(psd), color=\"black\", alpha=1)\n",
    "p.xaxis.axis_label = 'Freq (Hz)'\n",
    "p.yaxis.axis_label = 'Log power (AU)'\n",
    "p.x_range = Range1d(1, 50)\n",
    "p.y_range = Range1d(-3, 5)\n",
    "p.xgrid.grid_line_color = None\n",
    "p.ygrid.grid_line_color = None\n",
    "show(p)"
   ]
  },
  {
   "cell_type": "markdown",
   "metadata": {},
   "source": [
    "# Plot LFP PSDs\n",
    "\n",
    "If n_plot is less than 95, a random subset of electrodes is displayed"
   ]
  },
  {
   "cell_type": "code",
   "execution_count": null,
   "metadata": {},
   "outputs": [],
   "source": [
    "tspan = (200, 800)\n",
    "m = np.logical_and(times > tspan[0], times <= tspan[1]) \n",
    "\n",
    "# -\n",
    "n_plot = 20\n",
    "row_length = 5\n",
    "electrodes = np.arange(0, 95)\n",
    "if n_plot < 95:\n",
    "    np.random.shuffle(electrodes)\n",
    "    electrodes = electrodes[:n_plot]\n",
    "\n",
    "grid = []\n",
    "row = []\n",
    "row_count = 0\n",
    "for n_e in tqdm(electrodes):\n",
    "    x = X[:, n_e]\n",
    "    p = plot_grid_psd(x, m, fs)\n",
    "    row.append(p)\n",
    "    \n",
    "    row_count += 1\n",
    "    if row_count > (row_length - 1):\n",
    "        grid.append(row)\n",
    "        \n",
    "        row = []\n",
    "        row_count = 0\n",
    "        \n",
    "show(gridplot(grid))"
   ]
  },
  {
   "cell_type": "markdown",
   "metadata": {},
   "source": [
    "# Plot EEG channels"
   ]
  },
  {
   "cell_type": "code",
   "execution_count": null,
   "metadata": {
    "scrolled": true
   },
   "outputs": [],
   "source": [
    "tspan = (200, 800)\n",
    "m = np.logical_and(times > tspan[0], times <= tspan[1]) \n",
    "\n",
    "# -\n",
    "electrodes = np.arange(96, 96 + 8)\n",
    "row_length = 4\n",
    "\n",
    "grid = []\n",
    "row = []\n",
    "row_count = 0\n",
    "for n_e in tqdm(electrodes):\n",
    "    x = X[:, n_e]\n",
    "    p = plot_grid_psd(x, m, fs)\n",
    "    row.append(p)\n",
    "    \n",
    "    row_count += 1\n",
    "    if row_count > (row_length - 1):\n",
    "        grid.append(row)\n",
    "        \n",
    "        row = []\n",
    "        row_count = 0\n",
    "\n",
    "show(gridplot(grid))"
   ]
  },
  {
   "cell_type": "code",
   "execution_count": null,
   "metadata": {},
   "outputs": [],
   "source": []
  },
  {
   "cell_type": "code",
   "execution_count": null,
   "metadata": {},
   "outputs": [],
   "source": []
  }
 ],
 "metadata": {
  "kernelspec": {
   "display_name": "Python 2",
   "language": "python",
   "name": "python2"
  },
  "language_info": {
   "codemirror_mode": {
    "name": "ipython",
    "version": 2
   },
   "file_extension": ".py",
   "mimetype": "text/x-python",
   "name": "python",
   "nbconvert_exporter": "python",
   "pygments_lexer": "ipython2",
   "version": "2.7.13"
  }
 },
 "nbformat": 4,
 "nbformat_minor": 2
}
