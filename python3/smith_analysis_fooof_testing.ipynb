{
 "cells": [
  {
   "cell_type": "code",
   "execution_count": null,
   "metadata": {
    "collapsed": false
   },
   "outputs": [],
   "source": [
    "# -\n",
    "from bokeh.plotting import figure\n",
    "from bokeh.io import show, output_notebook\n",
    "from bokeh.layouts import column, row, gridplot\n",
    "from bokeh.models import Range1d\n",
    "from bokeh.io import export_png\n",
    "output_notebook()\n",
    "\n",
    "# -\n",
    "from fooof import FOOOF\n",
    "\n",
    "import csv\n",
    "import os\n",
    "import h5py\n",
    "import numpy as np\n",
    "\n",
    "from tqdm import tqdm\n",
    "from glob import glob\n",
    "from pprint import pprint\n",
    "\n",
    "from scipy.io import loadmat\n",
    "from scipy.signal import medfilt\n",
    "from scipy.signal import resample\n",
    "from scipy.signal import welch, gaussian\n",
    "from scipy.signal import butter, lfilter\n",
    "\n",
    "\n",
    "# --\n",
    "def butter_bandpass(lowcut, highcut, fs, order=5):\n",
    "    nyq = 0.5 * fs\n",
    "    low = lowcut / nyq\n",
    "    high = highcut / nyq\n",
    "    b, a = butter(order, [low, high], btype='band')\n",
    "\n",
    "    return b, a\n",
    "\n",
    "\n",
    "def butter_bandpass_filter(data, lowcut, highcut, fs, order=5):\n",
    "    b, a = butter_bandpass(lowcut, highcut, fs, order=order)\n",
    "    y = lfilter(b, a, data)\n",
    "\n",
    "    return y\n",
    "\n",
    "# -\n",
    "def plot_grid_psd(x, m, fs, show_plot=False):\n",
    "    freqs, psd = create_psd(x[m], fs)\n",
    "    p = figure(plot_width=150, plot_height=150)\n",
    "    p.line(freqs, np.log10(psd), color=\"black\", alpha=1)\n",
    "    p.xaxis.axis_label = 'Freq (Hz)'\n",
    "    p.yaxis.axis_label = 'Log power (AU)'\n",
    "    p.x_range = Range1d(1, 50)\n",
    "    p.y_range = Range1d(-3, 5)\n",
    "    p.xgrid.grid_line_color = None\n",
    "    p.ygrid.grid_line_color = None\n",
    "    p.toolbar.logo = None\n",
    "    p.toolbar_location = None\n",
    "    \n",
    "    if show_plot:\n",
    "        show(p)\n",
    "    else:\n",
    "        return p\n",
    "\n",
    "# -\n",
    "def random_fooof(X,\n",
    "                 num_windows,\n",
    "                 window_length,\n",
    "                 good_channels,\n",
    "                 fs=1000,\n",
    "                 alpha_range=(8, 16),\n",
    "                 fit_range=(3, 40),\n",
    "                 i_min=10000,\n",
    "                 max_iterations=5000,\n",
    "                 save_results=False):\n",
    "    \"\"\"FOOOF random channels and  windows of X.\"\"\"\n",
    "    \n",
    "    # Init\n",
    "    fm = FOOOF(peak_width_limits=[2.0, 12.0])\n",
    "\n",
    "    # Est baseline std for all channels\n",
    "    std_ref = X.std()\n",
    "    mean_alpha = np.mean(alpha_range)\n",
    "\n",
    "    # -\n",
    "    # !\n",
    "    m = 0  # Window count\n",
    "    k = 0  # Iter count\n",
    "\n",
    "    results = []\n",
    "    while m < num_windows:\n",
    "        # Update overall iter count\n",
    "        k += 1\n",
    "        if k > max_iterations:\n",
    "            break\n",
    "\n",
    "        # Sample random channel from the good\n",
    "        np.random.shuffle(good_channels)\n",
    "        c = good_channels[0]\n",
    "    \n",
    "        x = X[:, c]\n",
    "        \n",
    "        i_max = x.shape[0]\n",
    "        if i_min > i_max:\n",
    "            raise ValueError(\"i_min must be less than {}\".format(i_max))\n",
    "            \n",
    "        # -\n",
    "        # Find a good window\n",
    "        stop_idx_search = True\n",
    "        while stop_idx_search:\n",
    "            # Update overall iter count\n",
    "            k += 1\n",
    "            if k > max_iterations:\n",
    "                break\n",
    "            \n",
    "            # Generate random i:j \n",
    "            i = np.random.randint(i_min, i_max - window_length, 1)\n",
    "            j = i + window_length\n",
    "            \n",
    "            # Basic QC pass?\n",
    "            if x.std() > (5 * std_ref):\n",
    "                continue\n",
    "\n",
    "            stop_idx_search = False\n",
    "            \n",
    "            i = int(i)\n",
    "            j = int(j)\n",
    "        \n",
    "        # FOOOF x in the window\n",
    "        freqs, psd = create_psd(x[i:j], fs)\n",
    "        fm.fit(freqs, psd, fit_range)\n",
    "\n",
    "        # -\n",
    "        # Repack peak_params_ into seperate values\n",
    "        centers = []\n",
    "        powers = []\n",
    "        bws = []\n",
    "        for (center, amp, bw) in fm.peak_params_:\n",
    "            centers.append(center)\n",
    "            powers.append(amp)\n",
    "            bws.append(bw)\n",
    "        \n",
    "        centers = np.asarray(centers)\n",
    "        powers = np.asarray(powers)\n",
    "        bws = np.asarray(bws)\n",
    "        \n",
    "        # Found any peaks?\n",
    "        if centers.size == 0:\n",
    "            continue\n",
    "        \n",
    "        # -\n",
    "        # Find closest to mean alpha\n",
    "        idx = (np.abs(centers - mean_alpha)).argmin()\n",
    "        closest_peak = centers[idx]\n",
    "\n",
    "        # It is in range?\n",
    "        if (closest_peak >= alpha_range[0]) and (\n",
    "                closest_peak <= alpha_range[1]):\n",
    "\n",
    "            row = (m, c, i, j, closest_peak, powers[idx], bws[idx])\n",
    "            results.append(row)\n",
    "\n",
    "            m += 1\n",
    "\n",
    "    return results\n",
    "\n",
    "def save_fooof_results(name, results):\n",
    "    header = (\"m\", \"c\", \"i\", \"j\", \"center\", \"power\", \"bw\")\n",
    "\n",
    "    with open(name, 'w', newline='') as csvfile:\n",
    "        writer = csv.writer(csvfile, delimiter=',')\n",
    "        writer.writerow(header)\n",
    "        \n",
    "        for row in results:\n",
    "            writer.writerow(row)\n",
    "\n",
    "  \n",
    "def create_psd(lfp, inrate, outrate=1000):\n",
    "    \"\"\"Calculate PSD from LFP/EEG data.\"\"\"\n",
    "    lfp = np.array(lfp)\n",
    "\n",
    "    if inrate != outrate:\n",
    "        lfp = resample(lfp, int(lfp.shape[0] * outrate / inrate))\n",
    "\n",
    "    # Calculate PSD\n",
    "    return welch(\n",
    "        lfp,\n",
    "        fs=outrate,\n",
    "        window='hanning',\n",
    "        nperseg=outrate,\n",
    "        noverlap=outrate / 2.0,\n",
    "        nfft=None,\n",
    "        detrend='linear',\n",
    "        return_onesided=True,\n",
    "        scaling='density')\n",
    "\n",
    "def create_times(t, dt):\n",
    "    n_steps = int(t * (1.0 / dt))\n",
    "    times = np.linspace(0, t, n_steps)\n",
    "\n",
    "    return times"
   ]
  },
  {
   "cell_type": "markdown",
   "metadata": {},
   "source": [
    "# Data path"
   ]
  },
  {
   "cell_type": "code",
   "execution_count": null,
   "metadata": {
    "collapsed": true
   },
   "outputs": [],
   "source": [
    "DATA_PATH = \"/Users/type/Data/Smith/data\""
   ]
  },
  {
   "cell_type": "markdown",
   "metadata": {},
   "source": [
    "# Good files"
   ]
  },
  {
   "cell_type": "code",
   "execution_count": null,
   "metadata": {
    "collapsed": true
   },
   "outputs": [],
   "source": [
    "files = [\"Bo130408_s6ae_fixblank_active_0001_converted_ns2.mat\",\n",
    "\"Bo130408_s6ae_fixblank_active_0002_converted_ns2.mat\",\n",
    "\"Bo130409_s7ae_fixblank_active_0003_converted_ns2.mat\",\n",
    "\"Wi130116_s51ae_fixblank_active_0001_converted_ns2.mat\",\n",
    "\"Bo130404_s4ae_fixblank_active_0002_converted_ns2.mat\",\n",
    "\"Bo130405_s5ae_fixblank_active_0001_converted_ns2.mat\",\n",
    "\"Bo130405_s5ae_fixblank_active_0002_converted_ns2.mat\",\n",
    "\"Bo130405_s5ae_fixblank_active_0003_converted_ns2.mat\",\n",
    "\"Bo130418_s12ae_fixblank_active_0002_converted_ns2.mat\",\n",
    "\"Wi121219_s43ae_fixblank_active_0001_converted_ns2.mat\",\n",
    "\"Wi121219_s43ae_fixblank_active_0002_converted_ns2.mat\",\n",
    "\"Wi130129_s55ae_fixblank_active_0001_converted_ns2.mat\",\n",
    "\"Wi130129_s55ae_fixblank_active_0002_converted_ns2.mat\",\n",
    "\"Wi130205_s58ae_fixblank_active_0001_converted_ns2.mat\",\n",
    "\"Wi130205_s58ae_fixblank_active_0002_converted_ns2.mat\",\n",
    "\"Wi130207_s59ae_fixblank_active_0001_converted_ns2.mat\",\n",
    "\"Wi130207_s59ae_fixblank_active_0002_converted_ns2.mat\",\n",
    "\"Wi130207_s59ae_fixblank_active_0003_converted_ns2.mat\",\n",
    "\"Wi130208_s60ae_fixblank_active_0001_converted_ns2.mat\",\n",
    "\"Wi130211_s61ae_fixblank_active_0001_converted_ns2.mat\",\n",
    "\"Wi130212_s62ae_fixblank_active_0001_converted_ns2.mat\"]"
   ]
  },
  {
   "cell_type": "markdown",
   "metadata": {},
   "source": [
    "# Choose a file"
   ]
  },
  {
   "cell_type": "code",
   "execution_count": null,
   "metadata": {
    "collapsed": false
   },
   "outputs": [],
   "source": [
    "i = 0\n",
    "print(\"Running {}\".format(files[i]))"
   ]
  },
  {
   "cell_type": "markdown",
   "metadata": {},
   "source": [
    "# Load the handle"
   ]
  },
  {
   "cell_type": "code",
   "execution_count": null,
   "metadata": {
    "collapsed": false
   },
   "outputs": [],
   "source": [
    "fi = h5py.File(os.path.join(DATA_PATH, files[i]))\n",
    "pprint(list(fi.keys()))"
   ]
  },
  {
   "cell_type": "markdown",
   "metadata": {},
   "source": [
    "# Create time"
   ]
  },
  {
   "cell_type": "code",
   "execution_count": null,
   "metadata": {
    "collapsed": false
   },
   "outputs": [],
   "source": [
    "fs = float(fi['Fs'].value)\n",
    "n_samples = float(fi['nSamples'].value) \n",
    "T = n_samples / fs\n",
    "print(\"Experiment time T {}\".format(T))\n",
    "\n",
    "times = create_times(T, 1/fs)\n",
    "print(\"Times: {}\".format(times[:20]))"
   ]
  },
  {
   "cell_type": "markdown",
   "metadata": {},
   "source": [
    "# Get data\n",
    "\n",
    "and print stats."
   ]
  },
  {
   "cell_type": "code",
   "execution_count": null,
   "metadata": {
    "collapsed": false
   },
   "outputs": [],
   "source": [
    "X = fi['data'].value\n",
    "print(\"Data shape: {}\".format(X.shape))"
   ]
  },
  {
   "cell_type": "markdown",
   "metadata": {},
   "source": [
    "# FOOOF!"
   ]
  },
  {
   "cell_type": "code",
   "execution_count": null,
   "metadata": {
    "collapsed": false
   },
   "outputs": [],
   "source": [
    "results = random_fooof(X, 10, 10*fs, list(range(0, 95)), fs=fs)"
   ]
  },
  {
   "cell_type": "code",
   "execution_count": null,
   "metadata": {
    "collapsed": false
   },
   "outputs": [],
   "source": [
    "pprint(results[:3])\n",
    "save_fooof_results(\"test.csv\", results)"
   ]
  },
  {
   "cell_type": "markdown",
   "metadata": {},
   "source": [
    "- Results seem sane"
   ]
  },
  {
   "cell_type": "markdown",
   "metadata": {},
   "source": [
    "# Process good files\n",
    "\n",
    "- 6000 samples / file (or 600 per electrode on average)\n",
    "\n",
    "### LFP"
   ]
  },
  {
   "cell_type": "code",
   "execution_count": null,
   "metadata": {
    "collapsed": false
   },
   "outputs": [],
   "source": [
    "n_window = 6000\n",
    "l = 10*fs\n",
    "channels = list(range(0, 95))\n",
    "\n",
    "for fi in files:\n",
    "    # Extract name, drop extension\n",
    "    fi_name = os.path.splitext(fi)[0]\n",
    "    print(fi_name)\n",
    "    \n",
    "    # Do random FOOOF\n",
    "    results = random_fooof(X, n_window, l, channels, fs=fs)\n",
    "    \n",
    "    # Save the result\n",
    "    save_fooof_results(\n",
    "        \"{}_segments.csv\".format(os.path.join(DATA_PATH, fi_name)), \n",
    "        results)"
   ]
  },
  {
   "cell_type": "code",
   "execution_count": null,
   "metadata": {
    "collapsed": true
   },
   "outputs": [],
   "source": []
  }
 ],
 "metadata": {
  "kernelspec": {
   "display_name": "Python 3",
   "language": "python",
   "name": "python3"
  },
  "language_info": {
   "codemirror_mode": {
    "name": "ipython",
    "version": 3
   },
   "file_extension": ".py",
   "mimetype": "text/x-python",
   "name": "python",
   "nbconvert_exporter": "python",
   "pygments_lexer": "ipython3",
   "version": "3.6.0"
  }
 },
 "nbformat": 4,
 "nbformat_minor": 2
}
