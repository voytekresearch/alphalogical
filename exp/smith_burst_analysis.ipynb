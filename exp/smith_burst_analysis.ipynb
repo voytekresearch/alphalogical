{
 "cells": [
  {
   "cell_type": "code",
   "execution_count": 1,
   "metadata": {},
   "outputs": [
    {
     "data": {
      "text/html": [
       "\n",
       "    <div class=\"bk-root\">\n",
       "        <a href=\"https://bokeh.pydata.org\" target=\"_blank\" class=\"bk-logo bk-logo-small bk-logo-notebook\"></a>\n",
       "        <span id=\"93511176-b51a-483d-b675-ad53d4461e8a\">Loading BokehJS ...</span>\n",
       "    </div>"
      ]
     },
     "metadata": {},
     "output_type": "display_data"
    },
    {
     "data": {
      "application/javascript": [
       "\n",
       "(function(root) {\n",
       "  function now() {\n",
       "    return new Date();\n",
       "  }\n",
       "\n",
       "  var force = true;\n",
       "\n",
       "  if (typeof (root._bokeh_onload_callbacks) === \"undefined\" || force === true) {\n",
       "    root._bokeh_onload_callbacks = [];\n",
       "    root._bokeh_is_loading = undefined;\n",
       "  }\n",
       "\n",
       "\n",
       "  \n",
       "  if (typeof (root._bokeh_timeout) === \"undefined\" || force === true) {\n",
       "    root._bokeh_timeout = Date.now() + 5000;\n",
       "    root._bokeh_failed_load = false;\n",
       "  }\n",
       "\n",
       "  var NB_LOAD_WARNING = {'data': {'text/html':\n",
       "     \"<div style='background-color: #fdd'>\\n\"+\n",
       "     \"<p>\\n\"+\n",
       "     \"BokehJS does not appear to have successfully loaded. If loading BokehJS from CDN, this \\n\"+\n",
       "     \"may be due to a slow or bad network connection. Possible fixes:\\n\"+\n",
       "     \"</p>\\n\"+\n",
       "     \"<ul>\\n\"+\n",
       "     \"<li>re-rerun `output_notebook()` to attempt to load from CDN again, or</li>\\n\"+\n",
       "     \"<li>use INLINE resources instead, as so:</li>\\n\"+\n",
       "     \"</ul>\\n\"+\n",
       "     \"<code>\\n\"+\n",
       "     \"from bokeh.resources import INLINE\\n\"+\n",
       "     \"output_notebook(resources=INLINE)\\n\"+\n",
       "     \"</code>\\n\"+\n",
       "     \"</div>\"}};\n",
       "\n",
       "  function display_loaded() {\n",
       "    if (root.Bokeh !== undefined) {\n",
       "      var el = document.getElementById(\"93511176-b51a-483d-b675-ad53d4461e8a\");\n",
       "      if (el != null) {\n",
       "        el.textContent = \"BokehJS \" + Bokeh.version + \" successfully loaded.\";\n",
       "      }\n",
       "    } else if (Date.now() < root._bokeh_timeout) {\n",
       "      setTimeout(display_loaded, 100)\n",
       "    }\n",
       "  }\n",
       "\n",
       "\n",
       "  function run_callbacks() {\n",
       "    try {\n",
       "      root._bokeh_onload_callbacks.forEach(function(callback) { callback() });\n",
       "    }\n",
       "    finally {\n",
       "      delete root._bokeh_onload_callbacks\n",
       "    }\n",
       "    console.info(\"Bokeh: all callbacks have finished\");\n",
       "  }\n",
       "\n",
       "  function load_libs(js_urls, callback) {\n",
       "    root._bokeh_onload_callbacks.push(callback);\n",
       "    if (root._bokeh_is_loading > 0) {\n",
       "      console.log(\"Bokeh: BokehJS is being loaded, scheduling callback at\", now());\n",
       "      return null;\n",
       "    }\n",
       "    if (js_urls == null || js_urls.length === 0) {\n",
       "      run_callbacks();\n",
       "      return null;\n",
       "    }\n",
       "    console.log(\"Bokeh: BokehJS not loaded, scheduling load and callback at\", now());\n",
       "    root._bokeh_is_loading = js_urls.length;\n",
       "    for (var i = 0; i < js_urls.length; i++) {\n",
       "      var url = js_urls[i];\n",
       "      var s = document.createElement('script');\n",
       "      s.src = url;\n",
       "      s.async = false;\n",
       "      s.onreadystatechange = s.onload = function() {\n",
       "        root._bokeh_is_loading--;\n",
       "        if (root._bokeh_is_loading === 0) {\n",
       "          console.log(\"Bokeh: all BokehJS libraries loaded\");\n",
       "          run_callbacks()\n",
       "        }\n",
       "      };\n",
       "      s.onerror = function() {\n",
       "        console.warn(\"failed to load library \" + url);\n",
       "      };\n",
       "      console.log(\"Bokeh: injecting script tag for BokehJS library: \", url);\n",
       "      document.getElementsByTagName(\"head\")[0].appendChild(s);\n",
       "    }\n",
       "  };var element = document.getElementById(\"93511176-b51a-483d-b675-ad53d4461e8a\");\n",
       "  if (element == null) {\n",
       "    console.log(\"Bokeh: ERROR: autoload.js configured with elementid '93511176-b51a-483d-b675-ad53d4461e8a' but no matching script tag was found. \")\n",
       "    return false;\n",
       "  }\n",
       "\n",
       "  var js_urls = [\"https://cdn.pydata.org/bokeh/release/bokeh-0.12.7.min.js\", \"https://cdn.pydata.org/bokeh/release/bokeh-widgets-0.12.7.min.js\", \"https://cdn.pydata.org/bokeh/release/bokeh-tables-0.12.7.min.js\", \"https://cdn.pydata.org/bokeh/release/bokeh-gl-0.12.7.min.js\"];\n",
       "\n",
       "  var inline_js = [\n",
       "    function(Bokeh) {\n",
       "      Bokeh.set_log_level(\"info\");\n",
       "    },\n",
       "    \n",
       "    function(Bokeh) {\n",
       "      \n",
       "    },\n",
       "    \n",
       "    function(Bokeh) {\n",
       "      \n",
       "      document.getElementById(\"93511176-b51a-483d-b675-ad53d4461e8a\").textContent = \"BokehJS is loading...\";\n",
       "\n",
       "    },\n",
       "    function(Bokeh) {\n",
       "      console.log(\"Bokeh: injecting CSS: https://cdn.pydata.org/bokeh/release/bokeh-0.12.7.min.css\");\n",
       "      Bokeh.embed.inject_css(\"https://cdn.pydata.org/bokeh/release/bokeh-0.12.7.min.css\");\n",
       "      console.log(\"Bokeh: injecting CSS: https://cdn.pydata.org/bokeh/release/bokeh-widgets-0.12.7.min.css\");\n",
       "      Bokeh.embed.inject_css(\"https://cdn.pydata.org/bokeh/release/bokeh-widgets-0.12.7.min.css\");\n",
       "      console.log(\"Bokeh: injecting CSS: https://cdn.pydata.org/bokeh/release/bokeh-tables-0.12.7.min.css\");\n",
       "      Bokeh.embed.inject_css(\"https://cdn.pydata.org/bokeh/release/bokeh-tables-0.12.7.min.css\");\n",
       "    }\n",
       "  ];\n",
       "\n",
       "  function run_inline_js() {\n",
       "    \n",
       "    if ((root.Bokeh !== undefined) || (force === true)) {\n",
       "      for (var i = 0; i < inline_js.length; i++) {\n",
       "        inline_js[i].call(root, root.Bokeh);\n",
       "      }if (force === true) {\n",
       "        display_loaded();\n",
       "      }} else if (Date.now() < root._bokeh_timeout) {\n",
       "      setTimeout(run_inline_js, 100);\n",
       "    } else if (!root._bokeh_failed_load) {\n",
       "      console.log(\"Bokeh: BokehJS failed to load within specified timeout.\");\n",
       "      root._bokeh_failed_load = true;\n",
       "    } else if (force !== true) {\n",
       "      var cell = $(document.getElementById(\"93511176-b51a-483d-b675-ad53d4461e8a\")).parents('.cell').data().cell;\n",
       "      cell.output_area.append_execute_result(NB_LOAD_WARNING)\n",
       "    }\n",
       "\n",
       "  }\n",
       "\n",
       "  if (root._bokeh_is_loading === 0) {\n",
       "    console.log(\"Bokeh: BokehJS loaded, going straight to plotting\");\n",
       "    run_inline_js();\n",
       "  } else {\n",
       "    load_libs(js_urls, function() {\n",
       "      console.log(\"Bokeh: BokehJS plotting callback run at\", now());\n",
       "      run_inline_js();\n",
       "    });\n",
       "  }\n",
       "}(window));"
      ]
     },
     "metadata": {},
     "output_type": "display_data"
    }
   ],
   "source": [
    "# -\n",
    "from bokeh.plotting import figure\n",
    "from bokeh.io import show, output_notebook\n",
    "from bokeh.layouts import column, row, gridplot\n",
    "from bokeh.models import Range1d\n",
    "from bokeh.io import export_png\n",
    "output_notebook()\n",
    "\n",
    "from scipy.io import loadmat\n",
    "from scipy.signal import hilbert, welch\n",
    "\n",
    "from scipy.signal import butter, lfilter\n",
    "from fakespikes.util import create_times\n",
    "from collections import defaultdict\n",
    "\n",
    "# -\n",
    "import os\n",
    "import h5py\n",
    "import numpy as np\n",
    "\n",
    "from tqdm import tqdm\n",
    "from glob import glob\n",
    "from pprint import pprint\n",
    "\n",
    "from scipy.io import loadmat\n",
    "\n",
    "from fakespikes.util import create_times\n",
    "from fakespikes.util import create_psd\n",
    "\n",
    "from alphalogical.util import butter_bandpass_filter\n",
    "from alphalogical.util import hilbert_power\n",
    "from alphalogical.util import load_good_smith_files\n",
    "from alphalogical.util import load_smith_foof_results\n",
    "from alphalogical.util import load_smith_rates\n",
    "from alphalogical.util import load_smith_lfps\n",
    "\n",
    "from alphalogical.util import find_bursts\n",
    "from alphalogical.util import find_extrema\n",
    "from alphalogical.util import analyze_bursts"
   ]
  },
  {
   "cell_type": "markdown",
   "metadata": {},
   "source": [
    "# Pathing"
   ]
  },
  {
   "cell_type": "code",
   "execution_count": 2,
   "metadata": {},
   "outputs": [],
   "source": [
    "DATA_PATH = \"/Users/type/Data/Smith/data\""
   ]
  },
  {
   "cell_type": "markdown",
   "metadata": {},
   "source": [
    "\n",
    "# Load data and segment files"
   ]
  },
  {
   "cell_type": "code",
   "execution_count": 3,
   "metadata": {},
   "outputs": [],
   "source": [
    "lfp_files, rate_files, seg_files = load_good_smith_files(DATA_PATH)"
   ]
  },
  {
   "cell_type": "code",
   "execution_count": 4,
   "metadata": {},
   "outputs": [
    {
     "name": "stdout",
     "output_type": "stream",
     "text": [
      "[(0,\n",
      "  '/Users/type/Data/Smith/data/Bo130408_s6ae_fixblank_active_0001_converted_ns2.mat'),\n",
      " (1,\n",
      "  '/Users/type/Data/Smith/data/Bo130408_s6ae_fixblank_active_0002_converted_ns2.mat'),\n",
      " (2,\n",
      "  '/Users/type/Data/Smith/data/Bo130409_s7ae_fixblank_active_0003_converted_ns2.mat'),\n",
      " (3,\n",
      "  '/Users/type/Data/Smith/data/Wi130116_s51ae_fixblank_active_0001_converted_ns2.mat'),\n",
      " (4,\n",
      "  '/Users/type/Data/Smith/data/Bo130404_s4ae_fixblank_active_0002_converted_ns2.mat'),\n",
      " (5,\n",
      "  '/Users/type/Data/Smith/data/Bo130405_s5ae_fixblank_active_0001_converted_ns2.mat'),\n",
      " (6,\n",
      "  '/Users/type/Data/Smith/data/Bo130405_s5ae_fixblank_active_0002_converted_ns2.mat'),\n",
      " (7,\n",
      "  '/Users/type/Data/Smith/data/Bo130405_s5ae_fixblank_active_0003_converted_ns2.mat'),\n",
      " (8,\n",
      "  '/Users/type/Data/Smith/data/Bo130418_s12ae_fixblank_active_0002_converted_ns2.mat'),\n",
      " (9,\n",
      "  '/Users/type/Data/Smith/data/Wi121219_s43ae_fixblank_active_0001_converted_ns2.mat'),\n",
      " (10,\n",
      "  '/Users/type/Data/Smith/data/Wi121219_s43ae_fixblank_active_0002_converted_ns2.mat'),\n",
      " (11,\n",
      "  '/Users/type/Data/Smith/data/Wi130129_s55ae_fixblank_active_0001_converted_ns2.mat'),\n",
      " (12,\n",
      "  '/Users/type/Data/Smith/data/Wi130129_s55ae_fixblank_active_0002_converted_ns2.mat'),\n",
      " (13,\n",
      "  '/Users/type/Data/Smith/data/Wi130205_s58ae_fixblank_active_0001_converted_ns2.mat'),\n",
      " (14,\n",
      "  '/Users/type/Data/Smith/data/Wi130205_s58ae_fixblank_active_0002_converted_ns2.mat'),\n",
      " (15,\n",
      "  '/Users/type/Data/Smith/data/Wi130207_s59ae_fixblank_active_0001_converted_ns2.mat'),\n",
      " (16,\n",
      "  '/Users/type/Data/Smith/data/Wi130207_s59ae_fixblank_active_0002_converted_ns2.mat'),\n",
      " (17,\n",
      "  '/Users/type/Data/Smith/data/Wi130207_s59ae_fixblank_active_0003_converted_ns2.mat'),\n",
      " (18,\n",
      "  '/Users/type/Data/Smith/data/Wi130208_s60ae_fixblank_active_0001_converted_ns2.mat'),\n",
      " (19,\n",
      "  '/Users/type/Data/Smith/data/Wi130211_s61ae_fixblank_active_0001_converted_ns2.mat'),\n",
      " (20,\n",
      "  '/Users/type/Data/Smith/data/Wi130212_s62ae_fixblank_active_0001_converted_ns2.mat')]\n"
     ]
    }
   ],
   "source": [
    "pprint([(i, fi) for i, fi in enumerate(lfp_files)])"
   ]
  },
  {
   "cell_type": "code",
   "execution_count": 5,
   "metadata": {},
   "outputs": [
    {
     "name": "stdout",
     "output_type": "stream",
     "text": [
      "[(0, '/Users/type/Data/Smith/data/Bo130408_s6ae_fixblank_active_0001.mat'),\n",
      " (1, '/Users/type/Data/Smith/data/Bo130408_s6ae_fixblank_active_0002.mat'),\n",
      " (2, '/Users/type/Data/Smith/data/Bo130409_s7ae_fixblank_active_0003.mat'),\n",
      " (3, '/Users/type/Data/Smith/data/Wi130116_s51ae_fixblank_active_0001.mat'),\n",
      " (4, '/Users/type/Data/Smith/data/Bo130404_s4ae_fixblank_active_0002.mat'),\n",
      " (5, '/Users/type/Data/Smith/data/Bo130405_s5ae_fixblank_active_0001.mat'),\n",
      " (6, '/Users/type/Data/Smith/data/Bo130405_s5ae_fixblank_active_0002.mat'),\n",
      " (7, '/Users/type/Data/Smith/data/Bo130405_s5ae_fixblank_active_0003.mat'),\n",
      " (8, '/Users/type/Data/Smith/data/Bo130418_s12ae_fixblank_active_0002.mat'),\n",
      " (9, '/Users/type/Data/Smith/data/Wi121219_s43ae_fixblank_active_0001.mat'),\n",
      " (10, '/Users/type/Data/Smith/data/Wi121219_s43ae_fixblank_active_0002.mat'),\n",
      " (11, '/Users/type/Data/Smith/data/Wi130129_s55ae_fixblank_active_0001.mat'),\n",
      " (12, '/Users/type/Data/Smith/data/Wi130129_s55ae_fixblank_active_0002.mat'),\n",
      " (13, '/Users/type/Data/Smith/data/Wi130205_s58ae_fixblank_active_0001.mat'),\n",
      " (14, '/Users/type/Data/Smith/data/Wi130205_s58ae_fixblank_active_0002.mat'),\n",
      " (15, '/Users/type/Data/Smith/data/Wi130207_s59ae_fixblank_active_0001.mat'),\n",
      " (16, '/Users/type/Data/Smith/data/Wi130207_s59ae_fixblank_active_0002.mat'),\n",
      " (17, '/Users/type/Data/Smith/data/Wi130207_s59ae_fixblank_active_0003.mat'),\n",
      " (18, '/Users/type/Data/Smith/data/Wi130208_s60ae_fixblank_active_0001.mat'),\n",
      " (19, '/Users/type/Data/Smith/data/Wi130211_s61ae_fixblank_active_0001.mat'),\n",
      " (20, '/Users/type/Data/Smith/data/Wi130212_s62ae_fixblank_active_0001.mat')]\n"
     ]
    }
   ],
   "source": [
    "pprint([(i, fi) for i, fi in enumerate(rate_files)])"
   ]
  },
  {
   "cell_type": "code",
   "execution_count": 6,
   "metadata": {},
   "outputs": [
    {
     "name": "stdout",
     "output_type": "stream",
     "text": [
      "[(0, '/Users/type/Data/Smith/data/Bo130408_s6ae_fixblank_active_0001.mat'),\n",
      " (1, '/Users/type/Data/Smith/data/Bo130408_s6ae_fixblank_active_0002.mat'),\n",
      " (2, '/Users/type/Data/Smith/data/Bo130409_s7ae_fixblank_active_0003.mat'),\n",
      " (3, '/Users/type/Data/Smith/data/Wi130116_s51ae_fixblank_active_0001.mat'),\n",
      " (4, '/Users/type/Data/Smith/data/Bo130404_s4ae_fixblank_active_0002.mat'),\n",
      " (5, '/Users/type/Data/Smith/data/Bo130405_s5ae_fixblank_active_0001.mat'),\n",
      " (6, '/Users/type/Data/Smith/data/Bo130405_s5ae_fixblank_active_0002.mat'),\n",
      " (7, '/Users/type/Data/Smith/data/Bo130405_s5ae_fixblank_active_0003.mat'),\n",
      " (8, '/Users/type/Data/Smith/data/Bo130418_s12ae_fixblank_active_0002.mat'),\n",
      " (9, '/Users/type/Data/Smith/data/Wi121219_s43ae_fixblank_active_0001.mat'),\n",
      " (10, '/Users/type/Data/Smith/data/Wi121219_s43ae_fixblank_active_0002.mat'),\n",
      " (11, '/Users/type/Data/Smith/data/Wi130129_s55ae_fixblank_active_0001.mat'),\n",
      " (12, '/Users/type/Data/Smith/data/Wi130129_s55ae_fixblank_active_0002.mat'),\n",
      " (13, '/Users/type/Data/Smith/data/Wi130205_s58ae_fixblank_active_0001.mat'),\n",
      " (14, '/Users/type/Data/Smith/data/Wi130205_s58ae_fixblank_active_0002.mat'),\n",
      " (15, '/Users/type/Data/Smith/data/Wi130207_s59ae_fixblank_active_0001.mat'),\n",
      " (16, '/Users/type/Data/Smith/data/Wi130207_s59ae_fixblank_active_0002.mat'),\n",
      " (17, '/Users/type/Data/Smith/data/Wi130207_s59ae_fixblank_active_0003.mat'),\n",
      " (18, '/Users/type/Data/Smith/data/Wi130208_s60ae_fixblank_active_0001.mat'),\n",
      " (19, '/Users/type/Data/Smith/data/Wi130211_s61ae_fixblank_active_0001.mat'),\n",
      " (20, '/Users/type/Data/Smith/data/Wi130212_s62ae_fixblank_active_0001.mat')]\n"
     ]
    }
   ],
   "source": [
    "pprint([(i, fi) for i, fi in enumerate(rate_files)])"
   ]
  },
  {
   "cell_type": "markdown",
   "metadata": {},
   "source": [
    "# Pick the dataset to analyze \n",
    "\n",
    "Name it `x`."
   ]
  },
  {
   "cell_type": "code",
   "execution_count": 7,
   "metadata": {},
   "outputs": [],
   "source": [
    "n = 0"
   ]
  },
  {
   "cell_type": "code",
   "execution_count": 8,
   "metadata": {},
   "outputs": [
    {
     "name": "stdout",
     "output_type": "stream",
     "text": [
      "Header ['m', 'c', 'i', 'j', 'center', 'power', 'bw']\n",
      "Segment N: 11805\n",
      "Segment row (0, 49, 1131712, 1141712, 13.0381994977, 0.3680282355, 2.83154123279)\n"
     ]
    }
   ],
   "source": [
    "# Load all its segments\n",
    "header, segments = load_smith_foof_results(seg_files[n])\n",
    "\n",
    "print(\"Header {}\".format(header))\n",
    "print(\"Segment N: {}\".format(len(segments)))\n",
    "print(\"Segment row {}\".format(segments[0]))"
   ]
  },
  {
   "cell_type": "markdown",
   "metadata": {},
   "source": [
    "# Pick a segment"
   ]
  },
  {
   "cell_type": "code",
   "execution_count": 9,
   "metadata": {},
   "outputs": [],
   "source": [
    "m = 2004"
   ]
  },
  {
   "cell_type": "code",
   "execution_count": 10,
   "metadata": {},
   "outputs": [
    {
     "name": "stdout",
     "output_type": "stream",
     "text": [
      "(2004, 3163175, 3173175)\n"
     ]
    }
   ],
   "source": [
    "# Get indices\n",
    "m, c, i, j, center, power, bw = segments[m]\n",
    "print(m, i, j)"
   ]
  },
  {
   "cell_type": "markdown",
   "metadata": {},
   "source": [
    "# Load data for channel `c`"
   ]
  },
  {
   "cell_type": "code",
   "execution_count": 11,
   "metadata": {},
   "outputs": [
    {
     "name": "stdout",
     "output_type": "stream",
     "text": [
      "T: 3486.306\n",
      "ref shape: (3486306,)\n",
      "lfp_m shape: (3486306,)\n"
     ]
    }
   ],
   "source": [
    "# Get the LFP\n",
    "fs, times, lfp = load_smith_lfps(lfp_files[n], c)\n",
    "\n",
    "# Parse time\n",
    "T = times.max()\n",
    "times_m = times[i:j]\n",
    "\n",
    "print(\"T: {}\".format(T))\n",
    "print(\"ref shape: {}\".format(lfp.shape))\n",
    "print(\"lfp_m shape: {}\".format(lfp.shape))"
   ]
  },
  {
   "cell_type": "code",
   "execution_count": 12,
   "metadata": {},
   "outputs": [
    {
     "name": "stdout",
     "output_type": "stream",
     "text": [
      "Rate shape: (3486305,)\n"
     ]
    }
   ],
   "source": [
    "# get the rate\n",
    "_, rate = load_smith_rates(rate_files[n], c, (0, T), 1/fs)\n",
    "\n",
    "print(\"Rate shape: {}\".format(rate.shape))"
   ]
  },
  {
   "cell_type": "markdown",
   "metadata": {},
   "source": [
    "## Explore raw timeseries"
   ]
  },
  {
   "cell_type": "code",
   "execution_count": null,
   "metadata": {
    "scrolled": false
   },
   "outputs": [],
   "source": [
    "# Intial window (s)\n",
    "x_burst = lfp[i:j]\n",
    "\n",
    "t = float(x_burst.size / fs)\n",
    "win = (0, t)\n",
    "\n",
    "p = figure(plot_width=600, plot_height=150)\n",
    "p.line(times_m, x_burst, color='black', line_width=1)\n",
    "p.xaxis.axis_label = \"Time (s)\"\n",
    "p.yaxis.axis_label = \"LFP (mV)\"\n",
    "p.xgrid.grid_line_color = None\n",
    "p.ygrid.grid_line_color = None\n",
    "show(p)\n",
    "\n",
    "freqs, psd = welch(x_burst, fs=fs, window='hanning', nperseg=fs)\n",
    "\n",
    "p = figure(plot_width=250, plot_height=150)\n",
    "p.line(freqs, psd, color='black', alpha=0.9, line_width=2);\n",
    "p.x_range = Range1d(0, 50)\n",
    "p.xaxis.axis_label = \"Freq (Hz)\"\n",
    "p.yaxis.axis_label = \"Power (AU)\"\n",
    "show(p)"
   ]
  },
  {
   "cell_type": "code",
   "execution_count": null,
   "metadata": {},
   "outputs": [],
   "source": [
    "p = figure(plot_width=600, plot_height=150)\n",
    "p.line(times_m, rate[i:j], color='black')\n",
    "p.xaxis.axis_label = \"Time (s)\"\n",
    "p.yaxis.axis_label = \"Rate (Hz)\"\n",
    "p.xgrid.grid_line_color = None\n",
    "p.ygrid.grid_line_color = None\n",
    "show(p)"
   ]
  },
  {
   "cell_type": "markdown",
   "metadata": {},
   "source": [
    "# Find the bursts in m"
   ]
  },
  {
   "cell_type": "code",
   "execution_count": 13,
   "metadata": {},
   "outputs": [
    {
     "name": "stdout",
     "output_type": "stream",
     "text": [
      ">>> Calc. alpha power.\n",
      ">>> Calc. HG power.\n",
      ">>> Est. burst threshold.\n",
      ">>> Finding peaks.\n",
      ">>> Est. burst threshold.\n",
      ">>> Finding bursts\n",
      ">>> Finding peaks/troughs in the bursts.\n"
     ]
    },
    {
     "ename": "ValueError",
     "evalue": "need at least one array to concatenate",
     "output_type": "error",
     "traceback": [
      "\u001b[0;31m---------------------------------------------------------------------------\u001b[0m",
      "\u001b[0;31mValueError\u001b[0m                                Traceback (most recent call last)",
      "\u001b[0;32m<ipython-input-13-1c0202ce2e7a>\u001b[0m in \u001b[0;36m<module>\u001b[0;34m()\u001b[0m\n\u001b[1;32m     72\u001b[0m     \u001b[0mtroughs_b\u001b[0m\u001b[0;34m.\u001b[0m\u001b[0mappend\u001b[0m\u001b[0;34m(\u001b[0m\u001b[0mt_mask\u001b[0m\u001b[0;34m)\u001b[0m\u001b[0;34m\u001b[0m\u001b[0m\n\u001b[1;32m     73\u001b[0m \u001b[0;34m\u001b[0m\u001b[0m\n\u001b[0;32m---> 74\u001b[0;31m \u001b[0mpeaks_b\u001b[0m \u001b[0;34m=\u001b[0m \u001b[0mnp\u001b[0m\u001b[0;34m.\u001b[0m\u001b[0mconcatenate\u001b[0m\u001b[0;34m(\u001b[0m\u001b[0mpeaks_b\u001b[0m\u001b[0;34m)\u001b[0m\u001b[0;34m\u001b[0m\u001b[0m\n\u001b[0m\u001b[1;32m     75\u001b[0m \u001b[0mtroughs_b\u001b[0m \u001b[0;34m=\u001b[0m \u001b[0mnp\u001b[0m\u001b[0;34m.\u001b[0m\u001b[0mconcatenate\u001b[0m\u001b[0;34m(\u001b[0m\u001b[0mtroughs_b\u001b[0m\u001b[0;34m)\u001b[0m\u001b[0;34m\u001b[0m\u001b[0m\n\u001b[1;32m     76\u001b[0m \u001b[0;34m\u001b[0m\u001b[0m\n",
      "\u001b[0;31mValueError\u001b[0m: need at least one array to concatenate"
     ]
    }
   ],
   "source": [
    "# --------------------------------------------------------------\n",
    "verbose = True\n",
    "m, c, i, j, center, power, bw = segments[m]\n",
    "\n",
    "\n",
    "# --------------------------------------------------------------\n",
    "# Do filtering over the whole electrode, for consistency\n",
    "bw = 2 # Override\n",
    "\n",
    "if verbose:\n",
    "    print(\">>> Calc. alpha power.\")\n",
    "alpha_range = (center - bw, center + bw)\n",
    "alpha = butter_bandpass_filter(lfp, alpha_range[0], alpha_range[1], fs, order=2)\n",
    "alpha_pow = hilbert_power(alpha)\n",
    "\n",
    "if verbose:\n",
    "    print(\">>> Calc. HG power.\")\n",
    "hg = butter_bandpass_filter(lfp, 100, 150, fs, order=2)\n",
    "hg_pow = hilbert_power(hg)\n",
    "\n",
    "\n",
    "# --------------------------------------------------------------\n",
    "if verbose:\n",
    "    print(\">>> Est. burst threshold.\")\n",
    "\n",
    "# Find low\n",
    "low_range = [center - bw + 2, center - bw]\n",
    "if low_range[0] < 0:\n",
    "    low_range[0] = 1\n",
    "if low_range[1] < 2:\n",
    "    low_range[1] = 2\n",
    "low = butter_bandpass_filter(lfp, low_range[0], low_range[1], fs, order=2)\n",
    "low = hilbert_power(low)\n",
    "\n",
    "# Find high\n",
    "high_range = [center + bw, center + bw + 2]\n",
    "high = butter_bandpass_filter(lfp, high_range[0], high_range[1], fs, order=2)\n",
    "high = hilbert_power(high)\n",
    "\n",
    "# Find extrema for all alpha\n",
    "if verbose:\n",
    "    print(\">>> Finding peaks.\")\n",
    "peaks, troughs = find_extrema(\n",
    "    alpha, fs, alpha_range, boundary=None, first_extrema='peak')\n",
    "\n",
    "\n",
    "# --------------------------------------------------------------\n",
    "if verbose:\n",
    "    print(\">>> Est. burst threshold.\")\n",
    "\n",
    "# Only run for this mth segment...\n",
    "M = np.mean((low + high) / 2.0)\n",
    "\n",
    "if verbose:\n",
    "    print(\">>> Finding bursts\")\n",
    "bursts = find_bursts(alpha_pow[i:j], 3 * M, 1.5 * M)\n",
    "\n",
    "if verbose:\n",
    "    print(\">>> Finding peaks/troughs in the bursts.\")\n",
    "\n",
    "peaks_b = []\n",
    "troughs_b = []\n",
    "for b in bursts:\n",
    "    b = np.asarray(b)\n",
    "    \n",
    "    mask = np.logical_and(peaks >= b.min(), peaks < b.max())\n",
    "    p_mask = peaks[mask]\n",
    "    peaks_b.append(p_mask)\n",
    "    \n",
    "    mask = np.logical_and(troughs >= b.min(), troughs < b.max())\n",
    "    t_mask = troughs[mask]\n",
    "    troughs_b.append(t_mask)\n",
    "\n",
    "peaks_b = np.concatenate(peaks_b)\n",
    "troughs_b = np.concatenate(troughs_b)\n",
    "\n",
    "\n",
    "# --------------------------------------------------------------\n",
    "if verbose:\n",
    "    print(\">>> Analyzing bursts.\")\n",
    "    \n",
    "data = alpha_pow  # tmp\n",
    "burst_results = analyze_bursts(bursts, data, shift=i)\n",
    "\n",
    "if verbose:\n",
    "    print(\">>> Analyzing peaks/troughs.\")\n",
    "\n",
    "peak_results = analyze_extrema(peaks_b, data, n_sample=5, shift=None)\n",
    "trough_results = analyze_extrema(troughs_b, data, n_sample=5, shift=None)"
   ]
  },
  {
   "cell_type": "code",
   "execution_count": 18,
   "metadata": {},
   "outputs": [
    {
     "data": {
      "text/plain": [
       "((3486305,), (3486306,))"
      ]
     },
     "execution_count": 18,
     "metadata": {},
     "output_type": "execute_result"
    }
   ],
   "source": [
    "rate.shape, np.pad(rate, (1, 0), 'constant').shape"
   ]
  },
  {
   "cell_type": "markdown",
   "metadata": {},
   "source": [
    "# Plot the threshold and the bursts\n",
    "\n",
    "### LFP"
   ]
  },
  {
   "cell_type": "code",
   "execution_count": null,
   "metadata": {},
   "outputs": [],
   "source": [
    "x_filt = butter_bandpass_filter(lfp[i:j], 3, 100, fs, order=2)\n",
    "\n",
    "p = figure(plot_width=800, plot_height=250)\n",
    "p.line(times[i:j], x_filt[i:j], color='black', alpha=0.3)\n",
    "p.line(times[i:j], alpha[i:j], color='red', alpha=0.6)\n",
    "p.line(times[i:j], alpha_pow[i:j], color='red', line_width=5, alpha=0.2)\n",
    "p.line(times[i:j], M, color='gold', line_dash=\"dashed\", line_width=5)\n",
    "for b in bursts:\n",
    "    start, stop = min(b), max(b)\n",
    "    p.line(x=times[i:j][start:stop], y=x_filt.max(), color=\"blue\", line_width=5, alpha=0.2)\n",
    "p.xaxis.axis_label = \"Time (s)\"\n",
    "p.yaxis.axis_label = \"Power (AU)\"\n",
    "p.xgrid.grid_line_color = None\n",
    "p.ygrid.grid_line_color = None\n",
    "show(p)"
   ]
  },
  {
   "cell_type": "markdown",
   "metadata": {},
   "source": [
    "### Rate"
   ]
  },
  {
   "cell_type": "code",
   "execution_count": null,
   "metadata": {},
   "outputs": [],
   "source": [
    "p = figure(plot_width=800, plot_height=250)\n",
    "p.line(times_m, rate[i:j], color='black', alpha=0.3)\n",
    "for b in bursts:\n",
    "    start, stop = min(b), max(b)\n",
    "    p.line(x=times_m[start:stop], y=rate.max(), color=\"blue\", line_width=5, alpha=0.2)\n",
    "p.xaxis.axis_label = \"Time (s)\"\n",
    "p.yaxis.axis_label = \"Power (AU)\"\n",
    "p.xgrid.grid_line_color = None\n",
    "p.ygrid.grid_line_color = None\n",
    "show(p)"
   ]
  },
  {
   "cell_type": "markdown",
   "metadata": {},
   "source": [
    "# Analyze bursts"
   ]
  },
  {
   "cell_type": "code",
   "execution_count": null,
   "metadata": {},
   "outputs": [],
   "source": [
    "peaks, troughs = find_extrema(\n",
    "        alpha[i:j],\n",
    "        fs, (center - 2, center + 2),\n",
    "        boundary=None,\n",
    "        first_extrema='peak')"
   ]
  },
  {
   "cell_type": "code",
   "execution_count": null,
   "metadata": {},
   "outputs": [],
   "source": [
    "alpha"
   ]
  },
  {
   "cell_type": "code",
   "execution_count": null,
   "metadata": {},
   "outputs": [],
   "source": [
    "zerofallN"
   ]
  },
  {
   "cell_type": "code",
   "execution_count": null,
   "metadata": {},
   "outputs": [],
   "source": [
    "results = analyze_bursts(m, bursts, alpha_pow, fs=fs)\n",
    "pprint(results)"
   ]
  },
  {
   "cell_type": "markdown",
   "metadata": {},
   "source": [
    "# Analyze all segments for file `n`"
   ]
  },
  {
   "cell_type": "code",
   "execution_count": null,
   "metadata": {},
   "outputs": [],
   "source": [
    "from joblib import Parallel, delayed\n",
    "\n",
    "def run(lfp_filename, rate_filename, row):\n",
    "    # Segment data\n",
    "    m, c, i, j, center, power, bw = row\n",
    "\n",
    "    # Load lfp\n",
    "    fs, times, x_ref = load_smith_lfps(lfp_filename, c)\n",
    "\n",
    "    # Parse time\n",
    "    T = times.max()\n",
    "\n",
    "    # load firing rate\n",
    "    _, x_rate_ref = load_smith_rates(rate_filename, c, (0, T), 1/fs)\n",
    "\n",
    "    # Get segment data only\n",
    "    times_m = times[i:j]\n",
    "    x_lfp = x_ref[i:j]\n",
    "    x_rate = x_rate_ref[i:j]\n",
    "\n",
    "    # Burst analysis\n",
    "    bursts, alpha, alpha_pow, M = find_smith_bursts(x_ref, x_lfp, center, fs)\n",
    "    result = analyze_smith_bursts(m, bursts, alpha_pow, hg_pow, x_rate, fs)\n",
    "\n",
    "    return result"
   ]
  },
  {
   "cell_type": "code",
   "execution_count": null,
   "metadata": {},
   "outputs": [],
   "source": []
  },
  {
   "cell_type": "markdown",
   "metadata": {},
   "source": [
    "# Plot distributions of burst statistics\n",
    "\n",
    "- TODO adapt below"
   ]
  },
  {
   "cell_type": "markdown",
   "metadata": {},
   "source": [
    "### Burst distributions"
   ]
  },
  {
   "cell_type": "code",
   "execution_count": null,
   "metadata": {},
   "outputs": [],
   "source": [
    "hist, edges = np.histogram(bursts[\"L\"], density=False, bins=100)\n",
    "p = figure(plot_width=300, plot_height=200)\n",
    "p.quad(top=hist, bottom=0, left=edges[:-1], right=edges[1:], color=\"black\")\n",
    "p.xaxis.axis_label = \"L (s)\"\n",
    "p.yaxis.axis_label = \"Count\"\n",
    "show(p)"
   ]
  },
  {
   "cell_type": "markdown",
   "metadata": {},
   "source": [
    "### Alpha"
   ]
  },
  {
   "cell_type": "code",
   "execution_count": null,
   "metadata": {},
   "outputs": [],
   "source": [
    "hist, edges = np.histogram(bursts[\"alpha\"], density=False, bins=300)\n",
    "p = figure(plot_width=300, plot_height=200)\n",
    "p.quad(top=hist, bottom=0, left=edges[:-1], right=edges[1:], color=\"black\")\n",
    "p.xaxis.axis_label = \"Alpha power\"\n",
    "p.yaxis.axis_label = \"Count\"\n",
    "show(p)"
   ]
  },
  {
   "cell_type": "code",
   "execution_count": null,
   "metadata": {},
   "outputs": [],
   "source": [
    "hist1, edges1 = np.histogram(bursts[\"alpha_burst\"], density=True, bins=50)\n",
    "hist2, edges2 = np.histogram(bursts[\"alpha_osc\"], density=True, bins=50)\n",
    "\n",
    "p = figure(plot_width=300, plot_height=200)\n",
    "p.quad(top=hist1, bottom=0, left=edges1[:-1], right=edges1[1:], color=\"blue\", legend=\"Burst\", alpha=0.3)\n",
    "p.quad(top=hist2, bottom=0, left=edges2[:-1], right=edges2[1:], color=\"purple\", legend=\"Osc.\", alpha=0.3)\n",
    "p.xaxis.axis_label = \"Alpha power\"\n",
    "p.yaxis.axis_label = \"Count\"\n",
    "show(p)"
   ]
  },
  {
   "cell_type": "markdown",
   "metadata": {},
   "source": [
    "### Gamma"
   ]
  },
  {
   "cell_type": "code",
   "execution_count": null,
   "metadata": {},
   "outputs": [],
   "source": [
    "hist, edges = np.histogram(bursts[\"hg\"], density=False, bins=300)\n",
    "p = figure(plot_width=300, plot_height=200)\n",
    "p.quad(top=hist, bottom=0, left=edges[:-1], right=edges[1:], color=\"black\")\n",
    "p.xaxis.axis_label = \"Gamma power\"\n",
    "p.yaxis.axis_label = \"Count\"\n",
    "show(p)"
   ]
  },
  {
   "cell_type": "code",
   "execution_count": null,
   "metadata": {},
   "outputs": [],
   "source": [
    "hist1, edges1 = np.histogram(bursts[\"hg_burst\"], density=True, bins=50)\n",
    "hist2, edges2 = np.histogram(bursts[\"hg_osc\"], density=True, bins=50)\n",
    "\n",
    "p = figure(plot_width=300, plot_height=200)\n",
    "p.quad(top=hist1, bottom=0, left=edges1[:-1], right=edges1[1:], color=\"blue\", legend=\"Burst\", alpha=0.3)\n",
    "p.quad(top=hist2, bottom=0, left=edges2[:-1], right=edges2[1:], color=\"purple\", legend=\"Osc.\", alpha=0.3)\n",
    "p.xaxis.axis_label = \"Gamma power\"\n",
    "p.yaxis.axis_label = \"Count\"\n",
    "show(p)"
   ]
  },
  {
   "cell_type": "markdown",
   "metadata": {},
   "source": [
    "### Alpha by HG power"
   ]
  },
  {
   "cell_type": "code",
   "execution_count": null,
   "metadata": {},
   "outputs": [],
   "source": [
    "p = figure(plot_width=300, plot_height=200)\n",
    "p.circle(bursts[\"hg\"], bursts[\"alpha\"], color='black', alpha=0.3)\n",
    "p.xaxis.axis_label = \"Gamma power\"\n",
    "p.yaxis.axis_label = \"Alpha power\"\n",
    "show(p)"
   ]
  },
  {
   "cell_type": "code",
   "execution_count": null,
   "metadata": {},
   "outputs": [],
   "source": [
    "p = figure(plot_width=300, plot_height=200)\n",
    "p.circle(bursts[\"hg_burst\"], bursts[\"alpha_burst\"], color='blue', alpha=0.3, legend=\"Burst\")\n",
    "p.circle(bursts[\"hg_osc\"], bursts[\"alpha_osc\"], color='purple', alpha=0.3, legend=\"Osc.\")\n",
    "p.xaxis.axis_label = \"Gamma power\"\n",
    "p.yaxis.axis_label = \"Alpha power\"\n",
    "show(p)"
   ]
  },
  {
   "cell_type": "markdown",
   "metadata": {},
   "source": [
    "### L by power"
   ]
  },
  {
   "cell_type": "code",
   "execution_count": null,
   "metadata": {},
   "outputs": [],
   "source": [
    "p = figure(plot_width=300, plot_height=200)\n",
    "p.circle(burst_lens, burst_hgpower, color='black', alpha=0.3)\n",
    "p.xaxis.axis_label = \"Length (s)\"\n",
    "p.yaxis.axis_label = \"Gamma power\"\n",
    "show(p)"
   ]
  },
  {
   "cell_type": "code",
   "execution_count": null,
   "metadata": {},
   "outputs": [],
   "source": [
    "p = figure(plot_width=300, plot_height=200)\n",
    "p.circle(burst_lens, burst_alphapower, color='black')\n",
    "p.xaxis.axis_label = \"Length (s)\"\n",
    "p.yaxis.axis_label = \"Alphs power\"\n",
    "show(p)"
   ]
  },
  {
   "cell_type": "code",
   "execution_count": null,
   "metadata": {},
   "outputs": [],
   "source": [
    "p = figure(plot_width=300, plot_height=200)\n",
    "p.circle(burst_lens[burst_mask], burst_alphapower[burst_mask], color='blue', alpha=0.3, legend=\"Burst\")\n",
    "p.circle(burst_lens[osc_mask], burst_alphapower[osc_mask], color='purple', alpha=0.3, legend=\"Osc\")\n",
    "p.xaxis.axis_label = \"Length (s)\"\n",
    "p.yaxis.axis_label = \"Alphs power\"\n",
    "show(p)"
   ]
  },
  {
   "cell_type": "code",
   "execution_count": null,
   "metadata": {},
   "outputs": [],
   "source": []
  },
  {
   "cell_type": "code",
   "execution_count": null,
   "metadata": {},
   "outputs": [],
   "source": []
  },
  {
   "cell_type": "code",
   "execution_count": null,
   "metadata": {},
   "outputs": [],
   "source": []
  }
 ],
 "metadata": {
  "kernelspec": {
   "display_name": "Python 2",
   "language": "python",
   "name": "python2"
  },
  "language_info": {
   "codemirror_mode": {
    "name": "ipython",
    "version": 2
   },
   "file_extension": ".py",
   "mimetype": "text/x-python",
   "name": "python",
   "nbconvert_exporter": "python",
   "pygments_lexer": "ipython2",
   "version": "2.7.13"
  }
 },
 "nbformat": 4,
 "nbformat_minor": 2
}
